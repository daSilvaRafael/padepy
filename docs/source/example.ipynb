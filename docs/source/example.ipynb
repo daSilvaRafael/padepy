{
 "cells": [
  {
   "cell_type": "markdown",
   "id": "5a09a7f6",
   "metadata": {},
   "source": [
    "## Example"
   ]
  },
  {
   "cell_type": "code",
   "execution_count": 11,
   "id": "4da81d34",
   "metadata": {},
   "outputs": [],
   "source": [
    "from padepy import direct_algorithm as da\n",
    "from padepy import baker_algorithm as ba\n",
    "from padepy.direct_algorithm import rational_number as r\n",
    "\n",
    "import sympy as sp\n",
    "x = sp.Symbol(\"x\")"
   ]
  },
  {
   "cell_type": "markdown",
   "id": "ec22ab5c",
   "metadata": {},
   "source": [
    "Input variables"
   ]
  },
  {
   "cell_type": "code",
   "execution_count": 18,
   "id": "e094f011",
   "metadata": {},
   "outputs": [
    {
     "data": {
      "text/latex": [
       "$\\displaystyle \\frac{x}{\\sqrt{x + 1}}$"
      ],
      "text/plain": [
       "x/sqrt(x + 1)"
      ]
     },
     "execution_count": 18,
     "metadata": {},
     "output_type": "execute_result"
    }
   ],
   "source": [
    "func = x / sp.sqrt(x + 1)\n",
    "p = 3\n",
    "q = 5\n",
    "d = 19\n",
    "func"
   ]
  },
  {
   "cell_type": "markdown",
   "id": "4d3a0e05",
   "metadata": {},
   "source": [
    "Baker's algorithm"
   ]
  },
  {
   "cell_type": "code",
   "execution_count": 19,
   "id": "b4188437",
   "metadata": {},
   "outputs": [
    {
     "name": "stdout",
     "output_type": "stream",
     "text": [
      "Pade [3,5](x) stored at matrix index 10.\n"
     ]
    },
    {
     "data": {
      "text/latex": [
       "$\\displaystyle \\frac{\\frac{3 x^{3}}{8} + \\frac{9 x^{2}}{7} + x}{\\frac{x^{5}}{1792} - \\frac{5 x^{4}}{896} + \\frac{5 x^{3}}{56} + \\frac{25 x^{2}}{28} + \\frac{25 x}{14} + 1}$"
      ],
      "text/plain": [
       "(3*x**3/8 + 9*x**2/7 + x)/(x**5/1792 - 5*x**4/896 + 5*x**3/56 + 25*x**2/28 + 25*x/14 + 1)"
      ]
     },
     "execution_count": 19,
     "metadata": {},
     "output_type": "execute_result"
    }
   ],
   "source": [
    "pade_b, path = ba.pade(p, q, func)\n",
    "pade_b "
   ]
  },
  {
   "cell_type": "code",
   "execution_count": 20,
   "id": "71b7848e",
   "metadata": {},
   "outputs": [
    {
     "data": {
      "text/latex": [
       "$\\displaystyle \\left[\\begin{matrix}- \\frac{429 x^{8}}{2048} + \\frac{231 x^{7}}{1024} - \\frac{63 x^{6}}{256} + \\frac{35 x^{5}}{128} - \\frac{5 x^{4}}{16} + \\frac{3 x^{3}}{8} - \\frac{x^{2}}{2} + x\\\\\\frac{231 x^{7}}{1024} - \\frac{63 x^{6}}{256} + \\frac{35 x^{5}}{128} - \\frac{5 x^{4}}{16} + \\frac{3 x^{3}}{8} - \\frac{x^{2}}{2} + x\\\\\\frac{- \\frac{3 x^{7}}{1024} + \\frac{x^{6}}{128} - \\frac{15 x^{5}}{896} + \\frac{x^{4}}{28} - \\frac{5 x^{3}}{56} + \\frac{3 x^{2}}{7} + x}{\\frac{13 x}{14} + 1}\\\\\\frac{\\frac{7 x^{6}}{1536} - \\frac{5 x^{5}}{384} + \\frac{x^{4}}{32} - \\frac{x^{3}}{12} + \\frac{5 x^{2}}{12} + x}{\\frac{11 x}{12} + 1}\\\\\\frac{- \\frac{x^{6}}{1792} + \\frac{3 x^{5}}{896} - \\frac{x^{4}}{56} + \\frac{5 x^{3}}{28} + \\frac{15 x^{2}}{14} + x}{\\frac{33 x^{2}}{56} + \\frac{11 x}{7} + 1}\\\\\\frac{\\frac{x^{5}}{640} - \\frac{x^{4}}{80} + \\frac{3 x^{3}}{20} + x^{2} + x}{\\frac{21 x^{2}}{40} + \\frac{3 x}{2} + 1}\\\\\\frac{- \\frac{x^{5}}{896} + \\frac{x^{4}}{28} + \\frac{15 x^{3}}{28} + \\frac{10 x^{2}}{7} + x}{\\frac{3 x^{3}}{16} + \\frac{9 x^{2}}{8} + \\frac{27 x}{14} + 1}\\\\\\frac{\\frac{x^{4}}{64} + \\frac{3 x^{3}}{8} + \\frac{5 x^{2}}{4} + x}{\\frac{7 x^{3}}{64} + \\frac{7 x^{2}}{8} + \\frac{7 x}{4} + 1}\\\\\\frac{\\frac{x^{4}}{16} + \\frac{5 x^{3}}{8} + \\frac{3 x^{2}}{2} + x}{\\frac{x^{4}}{128} + \\frac{x^{3}}{4} + \\frac{5 x^{2}}{4} + 2 x + 1}\\\\\\frac{\\frac{7 x^{3}}{24} + \\frac{7 x^{2}}{6} + x}{- \\frac{x^{4}}{384} + \\frac{x^{3}}{16} + \\frac{3 x^{2}}{4} + \\frac{5 x}{3} + 1}\\\\\\frac{\\frac{3 x^{3}}{8} + \\frac{9 x^{2}}{7} + x}{\\frac{x^{5}}{1792} - \\frac{5 x^{4}}{896} + \\frac{5 x^{3}}{56} + \\frac{25 x^{2}}{28} + \\frac{25 x}{14} + 1}\\end{matrix}\\right]$"
      ],
      "text/plain": [
       "Matrix([\n",
       "[-429*x**8/2048 + 231*x**7/1024 - 63*x**6/256 + 35*x**5/128 - 5*x**4/16 + 3*x**3/8 - x**2/2 + x],\n",
       "[                 231*x**7/1024 - 63*x**6/256 + 35*x**5/128 - 5*x**4/16 + 3*x**3/8 - x**2/2 + x],\n",
       "[    (-3*x**7/1024 + x**6/128 - 15*x**5/896 + x**4/28 - 5*x**3/56 + 3*x**2/7 + x)/(13*x/14 + 1)],\n",
       "[                  (7*x**6/1536 - 5*x**5/384 + x**4/32 - x**3/12 + 5*x**2/12 + x)/(11*x/12 + 1)],\n",
       "[    (-x**6/1792 + 3*x**5/896 - x**4/56 + 5*x**3/28 + 15*x**2/14 + x)/(33*x**2/56 + 11*x/7 + 1)],\n",
       "[                          (x**5/640 - x**4/80 + 3*x**3/20 + x**2 + x)/(21*x**2/40 + 3*x/2 + 1)],\n",
       "[       (-x**5/896 + x**4/28 + 15*x**3/28 + 10*x**2/7 + x)/(3*x**3/16 + 9*x**2/8 + 27*x/14 + 1)],\n",
       "[                        (x**4/64 + 3*x**3/8 + 5*x**2/4 + x)/(7*x**3/64 + 7*x**2/8 + 7*x/4 + 1)],\n",
       "[                  (x**4/16 + 5*x**3/8 + 3*x**2/2 + x)/(x**4/128 + x**3/4 + 5*x**2/4 + 2*x + 1)],\n",
       "[                       (7*x**3/24 + 7*x**2/6 + x)/(-x**4/384 + x**3/16 + 3*x**2/4 + 5*x/3 + 1)],\n",
       "[     (3*x**3/8 + 9*x**2/7 + x)/(x**5/1792 - 5*x**4/896 + 5*x**3/56 + 25*x**2/28 + 25*x/14 + 1)]])"
      ]
     },
     "execution_count": 20,
     "metadata": {},
     "output_type": "execute_result"
    }
   ],
   "source": [
    "path"
   ]
  },
  {
   "cell_type": "markdown",
   "id": "c9e69c9a",
   "metadata": {},
   "source": [
    "Direct algorithm"
   ]
  },
  {
   "cell_type": "code",
   "execution_count": 21,
   "id": "1ed14077",
   "metadata": {},
   "outputs": [
    {
     "data": {
      "text/latex": [
       "$\\displaystyle \\frac{\\frac{3 x^{3}}{8} + \\frac{9 x^{2}}{7} + x}{\\frac{x^{5}}{1792} - \\frac{5 x^{4}}{896} + \\frac{5 x^{3}}{56} + \\frac{25 x^{2}}{28} + \\frac{25 x}{14} + 1}$"
      ],
      "text/plain": [
       "(3*x**3/8 + 9*x**2/7 + x)/(x**5/1792 - 5*x**4/896 + 5*x**3/56 + 25*x**2/28 + 25*x/14 + 1)"
      ]
     },
     "execution_count": 21,
     "metadata": {},
     "output_type": "execute_result"
    }
   ],
   "source": [
    "pade_d = da.pade(p, q, func)\n",
    "pade_d"
   ]
  }
 ],
 "metadata": {
  "kernelspec": {
   "display_name": "Python 3.9.5 64-bit",
   "language": "python",
   "name": "python3"
  },
  "language_info": {
   "codemirror_mode": {
    "name": "ipython",
    "version": 3
   },
   "file_extension": ".py",
   "mimetype": "text/x-python",
   "name": "python",
   "nbconvert_exporter": "python",
   "pygments_lexer": "ipython3",
   "version": "3.9.5"
  },
  "vscode": {
   "interpreter": {
    "hash": "62ffe33b4b70e70e2ad7eabb350bd852d57ace81263fde7960940ad59587f0df"
   }
  }
 },
 "nbformat": 4,
 "nbformat_minor": 5
}
