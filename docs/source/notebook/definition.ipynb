{
 "cells": [
  {
   "cell_type": "markdown",
   "id": "5a09a7f6",
   "metadata": {},
   "source": [
    "# Definition"
   ]
  },
  {
   "cell_type": "markdown",
   "id": "667bf081",
   "metadata": {},
   "source": [
    "Let $f(x)$ be a formal power series defined as\n",
    "\n",
    "$$f(x)=\\sum_{n=0}^{+\\infty}a_n\\,x^n\\,.$$\n",
    "\n",
    "If $N(x)$ and $D(x)\\,$ are polynomials of degree less or equal than $p$ and $q\\,,$ respectively, with $p\\,,q\\in \\mathbb{N}_0\\,,$ such that, $D(0)\\neq0$ and\n",
    "\n",
    "$$f(x) - \\frac{N(x)}{D(x)} = \\mathcal{O}(x^{p+q+1})$$ \n",
    "\n",
    "then, the rational function $N(x)/D(x)$ is a Padé approximant of $f(x)\\,.$ It can be denoted by $[p/q]_f(x)\\,$ or $[p/q](x)\\,$ or simply $[p/q]\\,.$\n",
    "\n",
    "To ensure that the rational function $[p/q](x)\\,$ doesn't vanish at $x=0\\,,$ it is required that $D(0)\\neq0\\,.$ To overcome this problem is assumed $D(0)=1\\,$ [1]. Then, using the first $p+q+1$ coefficients of $f(x)$ we only need to calculate $p+q+1$ coefficients of $[p/q](x)\\,.$\n",
    "\n",
    "\n",
    "[1] Brezinski, C. (1983). Outlines of Pade Approximation. In: Werner H., Wuytack L., Ng E., Bunger H.J. (eds) Computational Aspects of Complex Analysis. NATO Advanced Study Institutes Series (Series C | Mathematical and Physical Sciences), volume 102. Springer, Dordrecht.}"
   ]
  }
 ],
 "metadata": {
  "kernelspec": {
   "display_name": "Python 3.9.5 64-bit",
   "language": "python",
   "name": "python3"
  },
  "language_info": {
   "codemirror_mode": {
    "name": "ipython",
    "version": 3
   },
   "file_extension": ".py",
   "mimetype": "text/x-python",
   "name": "python",
   "nbconvert_exporter": "python",
   "pygments_lexer": "ipython3",
   "version": "3.9.5"
  },
  "vscode": {
   "interpreter": {
    "hash": "62ffe33b4b70e70e2ad7eabb350bd852d57ace81263fde7960940ad59587f0df"
   }
  }
 },
 "nbformat": 4,
 "nbformat_minor": 5
}
