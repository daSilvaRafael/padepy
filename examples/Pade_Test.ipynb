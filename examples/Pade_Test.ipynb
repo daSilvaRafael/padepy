{
 "cells": [
  {
   "cell_type": "code",
   "execution_count": 3,
   "id": "4da81d34",
   "metadata": {},
   "outputs": [],
   "source": [
    "from padepy import directAlgorithm as da\n",
    "from padepy import bakerAlgorithm as ba\n",
    "from padepy.directAlgorithm import r\n",
    "\n",
    "import sympy as sp\n",
    "x = sp.Symbol(\"x\")"
   ]
  },
  {
   "cell_type": "code",
   "execution_count": 15,
   "id": "e094f011",
   "metadata": {},
   "outputs": [
    {
     "data": {
      "text/latex": [
       "$\\displaystyle \\sin{\\left(x \\right)}$"
      ],
      "text/plain": [
       "sin(x)"
      ]
     },
     "execution_count": 15,
     "metadata": {},
     "output_type": "execute_result"
    }
   ],
   "source": [
    "func = sp.sin(x)\n",
    "p = 2\n",
    "q = 2\n",
    "d = 19\n",
    "func"
   ]
  },
  {
   "cell_type": "code",
   "execution_count": 16,
   "id": "b4188437",
   "metadata": {},
   "outputs": [
    {
     "name": "stdout",
     "output_type": "stream",
     "text": [
      "O(N(x)) < O(x^4) for [4,0]. Pade's table is not normal.\n",
      "None\n",
      "\n",
      "\n",
      "1.0*x/(0.1666666666666666667*x**2 + 1.0)\n"
     ]
    }
   ],
   "source": [
    "pd, path = ba.pade(p, q, func, d)\n",
    "print(pd) \n",
    "\n",
    "print()\n",
    "print()\n",
    "\n",
    "pd = da.pade(p, q, func, d)\n",
    "print(pd)"
   ]
  }
 ],
 "metadata": {
  "kernelspec": {
   "display_name": "py_Ven",
   "language": "python",
   "name": "py_ven"
  },
  "language_info": {
   "codemirror_mode": {
    "name": "ipython",
    "version": 3
   },
   "file_extension": ".py",
   "mimetype": "text/x-python",
   "name": "python",
   "nbconvert_exporter": "python",
   "pygments_lexer": "ipython3",
   "version": "3.9.5"
  },
  "vscode": {
   "interpreter": {
    "hash": "62ffe33b4b70e70e2ad7eabb350bd852d57ace81263fde7960940ad59587f0df"
   }
  }
 },
 "nbformat": 4,
 "nbformat_minor": 5
}
